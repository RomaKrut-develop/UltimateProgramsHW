{
 "cells": [
  {
   "cell_type": "markdown",
   "metadata": {},
   "source": [
    "Переменная и что это такое"
   ]
  },
  {
   "cell_type": "code",
   "execution_count": null,
   "metadata": {},
   "outputs": [],
   "source": [
    "cpu = \"Pentium 4\"\n",
    "gpu = \"Radeon 9500\"\n",
    "ram = \"512 MB\"\n",
    "\n",
    "print(f'Ваш Процессор - {cpu}, Графический процессор - {gpu}, Оперативная память - {ram}, у вас старый компьютер!')"
   ]
  },
  {
   "cell_type": "markdown",
   "metadata": {},
   "source": [
    "Переменная это объект, содержащий какое-то значение, подробнее читайте в variable_ex"
   ]
  },
  {
   "cell_type": "markdown",
   "metadata": {},
   "source": [
    "Условия If else"
   ]
  },
  {
   "cell_type": "code",
   "execution_count": 1,
   "metadata": {},
   "outputs": [
    {
     "name": "stdout",
     "output_type": "stream",
     "text": [
      "Компьютер выключен!\n"
     ]
    }
   ],
   "source": [
    "Power = 0\n",
    "\n",
    "if Power == 2:\n",
    "    print('Компьютер включён!')\n",
    "elif Power == 1:\n",
    "    print('Не хватает мощности что бы включить компьютер!')\n",
    "else:\n",
    "    print('Компьютер выключен!')"
   ]
  },
  {
   "cell_type": "markdown",
   "metadata": {},
   "source": [
    "If - Если\n",
    "Elif - Если (Или)\n",
    "Else - Иначе\n",
    "\n",
    "Условие это такой блок, в котором идет проверка переменной или другого любого объекта на заданное значение\n",
    "\n",
    "Подробнее читайте в if_else_ex, if_else_ex_2"
   ]
  },
  {
   "cell_type": "markdown",
   "metadata": {},
   "source": [
    "Циклы"
   ]
  },
  {
   "cell_type": "markdown",
   "metadata": {},
   "source": [
    "While"
   ]
  },
  {
   "cell_type": "code",
   "execution_count": null,
   "metadata": {},
   "outputs": [],
   "source": [
    "import time\n",
    "\n",
    "Energy_input = 2\n",
    "Energy_needs = 0\n",
    "\n",
    "while Energy_needs != 100: # 100 это значение, которое мы хотим получить\n",
    "    time.sleep(0.03)\n",
    "    Energy_needs += Energy_input\n",
    "    print(f\"Энергия - {Energy_needs}\")\n",
    "\n",
    "print('Достигнуто необходимое кол-во энергии, включаем устройство..')\n",
    "print('Это был цикл while')\n",
    "print('Для цикла for запустите файл while_for_for')"
   ]
  },
  {
   "cell_type": "markdown",
   "metadata": {},
   "source": [
    "While - означает повторять до тех пор пока значение не равно истине"
   ]
  },
  {
   "cell_type": "markdown",
   "metadata": {},
   "source": [
    "For"
   ]
  },
  {
   "cell_type": "code",
   "execution_count": null,
   "metadata": {},
   "outputs": [],
   "source": [
    "for steps in range(1,101): # Range - это диапозон значений, от стартовой точки 1 до конечной 100\n",
    "    print(f\"Шагов: {steps}\") # При каждом шаге мы выводим в консоль, сколько шагов мы уже сделали"
   ]
  },
  {
   "cell_type": "markdown",
   "metadata": {},
   "source": [
    "For - итерирует (Производит/делает) шаги которые были заданы к примеру в range(1,101).\n",
    "Тоесть он сделает 100 шагов\n",
    "\n",
    "\n",
    "Подробнее читайте в while_for, while_for_for"
   ]
  },
  {
   "cell_type": "markdown",
   "metadata": {},
   "source": [
    "Списки"
   ]
  },
  {
   "cell_type": "code",
   "execution_count": null,
   "metadata": {},
   "outputs": [],
   "source": [
    "fruits = [\"яблоко\", \"банан\", \"вишня\"]\n",
    "first_fruit = fruits[0]  # Индекс 0 - \"яблоко\"\n",
    "second_fruit = fruits[1] # Индекс 1 - \"банан\"\n",
    "last_fruit = fruits[2] # Индекс 2 - \"вишня\"\n",
    "# fruits[3] # Вызовет ошибку IndexError: list index out of range (индекс за пределами списка)\n",
    "print(first_fruit) # Выведет: яблоко\n",
    "print(second_fruit) # Выведет: банан\n",
    "print(last_fruit) # Выведет: вишня"
   ]
  },
  {
   "cell_type": "markdown",
   "metadata": {},
   "source": [
    "list - объект который может принимать несколько значений"
   ]
  },
  {
   "cell_type": "markdown",
   "metadata": {},
   "source": [
    "Генераторы списков"
   ]
  },
  {
   "cell_type": "code",
   "execution_count": null,
   "metadata": {},
   "outputs": [],
   "source": [
    "# Создание списка квадратов чисел от 0 до 9 (с помощью генератора списка)\n",
    "cubes = [num ** 2 for num in range(10)]\n",
    "print(cubes) # Выведет: [0, 1, 4, 9, 16, 25, 36, 49, 64, 81]"
   ]
  },
  {
   "cell_type": "markdown",
   "metadata": {},
   "source": [
    "Генераторы нужны что бы создать список в котором каждый элемент является результатом какой-либо операции"
   ]
  },
  {
   "cell_type": "markdown",
   "metadata": {},
   "source": [
    "Функции"
   ]
  },
  {
   "cell_type": "code",
   "execution_count": null,
   "metadata": {},
   "outputs": [],
   "source": [
    "a = 10\n",
    "b = 10\n",
    "\n",
    "def greetengs(name): \n",
    "  print(f\"Привет, {name}!\")\n",
    "\n",
    "def sum_of_two(a, b): # Аргументы: a -  Первое число. b - Второе число.\n",
    "   return a + b\n",
    "\n",
    "# Вызов функции\n",
    "greetengs(\"Иван\")\n",
    "print(sum_of_two(10, 60))"
   ]
  },
  {
   "cell_type": "markdown",
   "metadata": {},
   "source": [
    "Функции позволяют выстроить логическую и более правильную последовательность действий кода"
   ]
  },
  {
   "cell_type": "markdown",
   "metadata": {},
   "source": [
    "Lambda-Функции\n"
   ]
  },
  {
   "cell_type": "code",
   "execution_count": null,
   "metadata": {},
   "outputs": [],
   "source": [
    "cube_l = lambda x: x**3\n",
    "\n",
    "source = [1, 2, 3, 4, 5]\n",
    "list = list(map(cube_l, source))\n",
    "\n",
    "print(f\"Исходный список: {source}\")\n",
    "print(f\"Список кубов: {list}\")"
   ]
  },
  {
   "cell_type": "markdown",
   "metadata": {},
   "source": [
    "Анонимная и небольшая функция необходимая для одноразового использования"
   ]
  },
  {
   "cell_type": "markdown",
   "metadata": {},
   "source": [
    "Callback-Функции"
   ]
  },
  {
   "cell_type": "code",
   "execution_count": null,
   "metadata": {},
   "outputs": [],
   "source": [
    "import time\n",
    "\n",
    "def callback_1(): # Мы назначаем первую коллбэк-функцию\n",
    "    time.sleep(0.9)\n",
    "    print(\"Я начало эстафеты, передаю свою функцию второму каллбэку!\")\n",
    "\n",
    "def callback_2(): # Затем вторую\n",
    "    time.sleep(1.2)\n",
    "    print(\"Я второй коллбэк, я принимаю функцию первого каллбэка и передаю его третьему!\")\n",
    "\n",
    "def callback_3(): # И последнюю\n",
    "    time.sleep(1)\n",
    "    print(\"Третий коллбэк принимает функцию, эстафета завершается\")\n",
    "\n",
    "callbacks = [callback_1, callback_2, callback_3] # После этого в переменной мы передаём эти функции как параметры\n",
    "\n",
    "for callback in callbacks:\n",
    "    callback()"
   ]
  },
  {
   "cell_type": "markdown",
   "metadata": {},
   "source": [
    "Callback'и вызывают друг друга по некой цепочки сигналов переданных в параметрах"
   ]
  },
  {
   "cell_type": "markdown",
   "metadata": {},
   "source": [
    "Подробнее читайте в lambda_ex, callback_ex"
   ]
  },
  {
   "cell_type": "markdown",
   "metadata": {},
   "source": [
    "Кортеж"
   ]
  },
  {
   "cell_type": "code",
   "execution_count": null,
   "metadata": {},
   "outputs": [],
   "source": [
    "города = (\"Москва\", \"Санкт-Петербург\", \"Казань\")\n",
    "print(f\"Кортеж городов: {города}\")\n",
    "\n",
    "try:\n",
    "    города[0] = \"Новосибирск\"\n",
    "except TypeError as e:\n",
    "    print(f\"\\nОшибка при попытке изменить элемент кортежа: {e}\")\n",
    "    print(\"Кортежи являются неизменяемыми (immutable) типами данных в Python.\")\n",
    "    print(\"После создания кортежа, вы не можете изменять его элементы.\")"
   ]
  },
  {
   "cell_type": "markdown",
   "metadata": {},
   "source": [
    "Кортеж - список в котором параметры не могут быть изменены"
   ]
  },
  {
   "cell_type": "markdown",
   "metadata": {},
   "source": [
    "Словарь"
   ]
  },
  {
   "cell_type": "code",
   "execution_count": null,
   "metadata": {},
   "outputs": [],
   "source": [
    "Grades = {\n",
    "    \"Математика\": 4,\n",
    "    \"Информатика\": 5,\n",
    "    \"Физика\": 3,\n",
    "    \"История\": 5,\n",
    "    \"Литература\": 4\n",
    "}\n",
    "print(f\"\\nСловарь оценок студента: {Grades}\")\n",
    "\n",
    "# d) Выведите в консоль все пары «предмет — оценка»\n",
    "print(\"\\nПары «предмет — оценка»:\")\n",
    "for lesson, grade in Grades.items():\n",
    "    print(f\"- {lesson}: {grade}\")"
   ]
  },
  {
   "cell_type": "markdown",
   "metadata": {},
   "source": [
    "Словари - гибкий инструмент хранения и управления данными"
   ]
  },
  {
   "cell_type": "markdown",
   "metadata": {},
   "source": [
    "Работа с файлами"
   ]
  },
  {
   "cell_type": "code",
   "execution_count": null,
   "metadata": {},
   "outputs": [],
   "source": [
    "filename = \"messages.txt\" # Имя файла\n",
    "message = \"Hello, world! \\nI love hamsters \\nEveryone loves them\" # Само сообщение которое хотим передать/записать в файл\n",
    "\n",
    "def write(): # Обозначем функцию которая будет записывать message в файл\n",
    "    with open(filename, \"a\") as file: # Предзнаменуем работу с файлом и о завршенни работы в последней строчке блока:\n",
    "        file.write(message) # Тоесть здесь\n",
    "\n",
    "def read(): # Обозначем функцию которая будет считывать текст файла\n",
    "    with open(filename, \"r\") as file:  # Предзнаменуем работу с файлом и о завршенни работы в последней строчке блока\n",
    "        for message in file: # Здесь, начало считывания сообщения в файле\n",
    "            print(message, end=\"\") # Тут выводим в консоль\n",
    "    print() # Здесь конец\n",
    "\n",
    "write() # Вызываем функции\n",
    "read() # Вызываем функции"
   ]
  }
 ],
 "metadata": {
  "kernelspec": {
   "display_name": "Python 3",
   "language": "python",
   "name": "python3"
  },
  "language_info": {
   "codemirror_mode": {
    "name": "ipython",
    "version": 3
   },
   "file_extension": ".py",
   "mimetype": "text/x-python",
   "name": "python",
   "nbconvert_exporter": "python",
   "pygments_lexer": "ipython3",
   "version": "3.12.6"
  }
 },
 "nbformat": 4,
 "nbformat_minor": 2
}
